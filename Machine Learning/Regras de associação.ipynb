{
 "cells": [
  {
   "cell_type": "markdown",
   "metadata": {},
   "source": [
    "Regras de associação"
   ]
  },
  {
   "cell_type": "code",
   "execution_count": 1,
   "metadata": {},
   "outputs": [
    {
     "name": "stdout",
     "output_type": "stream",
     "text": [
      "Collecting apyoriNote: you may need to restart the kernel to use updated packages.\n"
     ]
    },
    {
     "name": "stderr",
     "output_type": "stream",
     "text": [
      "WARNING: You are using pip version 21.1.3; however, version 21.3.1 is available.\n",
      "You should consider upgrading via the 'C:\\Users\\rafae\\AppData\\Local\\Programs\\Python\\Python39\\python.exe -m pip install --upgrade pip' command.\n"
     ]
    },
    {
     "name": "stdout",
     "output_type": "stream",
     "text": [
      "\n",
      "  Downloading apyori-1.1.2.tar.gz (8.6 kB)\n",
      "Using legacy 'setup.py install' for apyori, since package 'wheel' is not installed.\n",
      "Installing collected packages: apyori\n",
      "    Running setup.py install for apyori: started\n",
      "    Running setup.py install for apyori: finished with status 'done'\n",
      "Successfully installed apyori-1.1.2\n"
     ]
    }
   ],
   "source": [
    "pip install apyori"
   ]
  },
  {
   "cell_type": "code",
   "execution_count": 2,
   "metadata": {},
   "outputs": [],
   "source": [
    "import pandas as pd\n",
    "from apyori import apriori"
   ]
  },
  {
   "cell_type": "code",
   "execution_count": 3,
   "metadata": {},
   "outputs": [
    {
     "data": {
      "text/html": [
       "<div>\n",
       "<style scoped>\n",
       "    .dataframe tbody tr th:only-of-type {\n",
       "        vertical-align: middle;\n",
       "    }\n",
       "\n",
       "    .dataframe tbody tr th {\n",
       "        vertical-align: top;\n",
       "    }\n",
       "\n",
       "    .dataframe thead th {\n",
       "        text-align: right;\n",
       "    }\n",
       "</style>\n",
       "<table border=\"1\" class=\"dataframe\">\n",
       "  <thead>\n",
       "    <tr style=\"text-align: right;\">\n",
       "      <th></th>\n",
       "      <th>0</th>\n",
       "      <th>1</th>\n",
       "      <th>2</th>\n",
       "    </tr>\n",
       "  </thead>\n",
       "  <tbody>\n",
       "    <tr>\n",
       "      <th>0</th>\n",
       "      <td>Cerveja</td>\n",
       "      <td>Pizza</td>\n",
       "      <td>Sorvete</td>\n",
       "    </tr>\n",
       "    <tr>\n",
       "      <th>1</th>\n",
       "      <td>Pizza</td>\n",
       "      <td>Sorvete</td>\n",
       "      <td>NaN</td>\n",
       "    </tr>\n",
       "    <tr>\n",
       "      <th>2</th>\n",
       "      <td>Cerveja</td>\n",
       "      <td>Pizza</td>\n",
       "      <td>NaN</td>\n",
       "    </tr>\n",
       "    <tr>\n",
       "      <th>3</th>\n",
       "      <td>Cerveja</td>\n",
       "      <td>Pizza</td>\n",
       "      <td>Sorvete</td>\n",
       "    </tr>\n",
       "    <tr>\n",
       "      <th>4</th>\n",
       "      <td>Cerveja</td>\n",
       "      <td>Pizza</td>\n",
       "      <td>NaN</td>\n",
       "    </tr>\n",
       "    <tr>\n",
       "      <th>5</th>\n",
       "      <td>Pizza</td>\n",
       "      <td>NaN</td>\n",
       "      <td>NaN</td>\n",
       "    </tr>\n",
       "  </tbody>\n",
       "</table>\n",
       "</div>"
      ],
      "text/plain": [
       "         0        1        2\n",
       "0  Cerveja    Pizza  Sorvete\n",
       "1    Pizza  Sorvete      NaN\n",
       "2  Cerveja    Pizza      NaN\n",
       "3  Cerveja    Pizza  Sorvete\n",
       "4  Cerveja    Pizza      NaN\n",
       "5    Pizza      NaN      NaN"
      ]
     },
     "execution_count": 3,
     "metadata": {},
     "output_type": "execute_result"
    }
   ],
   "source": [
    "#Leitura das transações\n",
    "dados = pd.read_csv('transacoes.txt', header= None)\n",
    "dados"
   ]
  },
  {
   "cell_type": "code",
   "execution_count": 4,
   "metadata": {},
   "outputs": [
    {
     "data": {
      "text/plain": [
       "[['Cerveja', 'Pizza', 'Sorvete'],\n",
       " ['Pizza', 'Sorvete', 'nan'],\n",
       " ['Cerveja', 'Pizza', 'nan'],\n",
       " ['Cerveja', 'Pizza', 'Sorvete'],\n",
       " ['Cerveja', 'Pizza', 'nan'],\n",
       " ['Pizza', 'nan', 'nan']]"
      ]
     },
     "execution_count": 4,
     "metadata": {},
     "output_type": "execute_result"
    }
   ],
   "source": [
    "#transformação para o formato de lista que é exigido pela biblioteca apyori - 6 é a quantidade de itens na base de dados\n",
    "transacoes =[]\n",
    "for i in range(0,6):\n",
    "    transacoes.append([str(dados.values[i,j]) for j in range(0,3)])\n",
    "transacoes"
   ]
  },
  {
   "cell_type": "code",
   "execution_count": 5,
   "metadata": {},
   "outputs": [],
   "source": [
    "# execução do algorítmo apriori para geração das regras de associação, definindo os parâmetros de suporte e confiança\n",
    "regras = apriori(transacoes, min_support = 0.5, min_confidence = 0.5, min_length = 2)"
   ]
  },
  {
   "cell_type": "code",
   "execution_count": 6,
   "metadata": {},
   "outputs": [
    {
     "name": "stdout",
     "output_type": "stream",
     "text": [
      "RelationRecord(items=frozenset({'Cerveja'}), support=0.6666666666666666, ordered_statistics=[OrderedStatistic(items_base=frozenset(), items_add=frozenset({'Cerveja'}), confidence=0.6666666666666666, lift=1.0)])\n"
     ]
    },
    {
     "data": {
      "text/plain": [
       "[RelationRecord(items=frozenset({'Cerveja'}), support=0.6666666666666666, ordered_statistics=[OrderedStatistic(items_base=frozenset(), items_add=frozenset({'Cerveja'}), confidence=0.6666666666666666, lift=1.0)]),\n",
       " RelationRecord(items=frozenset({'Pizza'}), support=1.0, ordered_statistics=[OrderedStatistic(items_base=frozenset(), items_add=frozenset({'Pizza'}), confidence=1.0, lift=1.0)]),\n",
       " RelationRecord(items=frozenset({'Sorvete'}), support=0.5, ordered_statistics=[OrderedStatistic(items_base=frozenset(), items_add=frozenset({'Sorvete'}), confidence=0.5, lift=1.0)]),\n",
       " RelationRecord(items=frozenset({'nan'}), support=0.6666666666666666, ordered_statistics=[OrderedStatistic(items_base=frozenset(), items_add=frozenset({'nan'}), confidence=0.6666666666666666, lift=1.0)]),\n",
       " RelationRecord(items=frozenset({'Pizza', 'Cerveja'}), support=0.6666666666666666, ordered_statistics=[OrderedStatistic(items_base=frozenset(), items_add=frozenset({'Pizza', 'Cerveja'}), confidence=0.6666666666666666, lift=1.0), OrderedStatistic(items_base=frozenset({'Cerveja'}), items_add=frozenset({'Pizza'}), confidence=1.0, lift=1.0), OrderedStatistic(items_base=frozenset({'Pizza'}), items_add=frozenset({'Cerveja'}), confidence=0.6666666666666666, lift=1.0)]),\n",
       " RelationRecord(items=frozenset({'Sorvete', 'Pizza'}), support=0.5, ordered_statistics=[OrderedStatistic(items_base=frozenset(), items_add=frozenset({'Sorvete', 'Pizza'}), confidence=0.5, lift=1.0), OrderedStatistic(items_base=frozenset({'Pizza'}), items_add=frozenset({'Sorvete'}), confidence=0.5, lift=1.0), OrderedStatistic(items_base=frozenset({'Sorvete'}), items_add=frozenset({'Pizza'}), confidence=1.0, lift=1.0)]),\n",
       " RelationRecord(items=frozenset({'nan', 'Pizza'}), support=0.6666666666666666, ordered_statistics=[OrderedStatistic(items_base=frozenset(), items_add=frozenset({'nan', 'Pizza'}), confidence=0.6666666666666666, lift=1.0), OrderedStatistic(items_base=frozenset({'Pizza'}), items_add=frozenset({'nan'}), confidence=0.6666666666666666, lift=1.0), OrderedStatistic(items_base=frozenset({'nan'}), items_add=frozenset({'Pizza'}), confidence=1.0, lift=1.0)])]"
      ]
     },
     "execution_count": 6,
     "metadata": {},
     "output_type": "execute_result"
    }
   ],
   "source": [
    "#criação de nova variável para armazena somente as regras de associação\n",
    "resultados = list(regras)\n",
    "print(resultados[0])\n",
    "resultados"
   ]
  },
  {
   "cell_type": "code",
   "execution_count": 9,
   "metadata": {},
   "outputs": [
    {
     "data": {
      "text/plain": [
       "[[frozenset({'Cerveja'}),\n",
       "  0.6666666666666666,\n",
       "  [OrderedStatistic(items_base=frozenset(), items_add=frozenset({'Cerveja'}), confidence=0.6666666666666666, lift=1.0)]],\n",
       " [frozenset({'Pizza'}),\n",
       "  1.0,\n",
       "  [OrderedStatistic(items_base=frozenset(), items_add=frozenset({'Pizza'}), confidence=1.0, lift=1.0)]],\n",
       " [frozenset({'Sorvete'}),\n",
       "  0.5,\n",
       "  [OrderedStatistic(items_base=frozenset(), items_add=frozenset({'Sorvete'}), confidence=0.5, lift=1.0)]],\n",
       " [frozenset({'nan'}),\n",
       "  0.6666666666666666,\n",
       "  [OrderedStatistic(items_base=frozenset(), items_add=frozenset({'nan'}), confidence=0.6666666666666666, lift=1.0)]],\n",
       " [frozenset({'Cerveja', 'Pizza'}),\n",
       "  0.6666666666666666,\n",
       "  [OrderedStatistic(items_base=frozenset(), items_add=frozenset({'Pizza', 'Cerveja'}), confidence=0.6666666666666666, lift=1.0),\n",
       "   OrderedStatistic(items_base=frozenset({'Cerveja'}), items_add=frozenset({'Pizza'}), confidence=1.0, lift=1.0),\n",
       "   OrderedStatistic(items_base=frozenset({'Pizza'}), items_add=frozenset({'Cerveja'}), confidence=0.6666666666666666, lift=1.0)]],\n",
       " [frozenset({'Pizza', 'Sorvete'}),\n",
       "  0.5,\n",
       "  [OrderedStatistic(items_base=frozenset(), items_add=frozenset({'Sorvete', 'Pizza'}), confidence=0.5, lift=1.0),\n",
       "   OrderedStatistic(items_base=frozenset({'Pizza'}), items_add=frozenset({'Sorvete'}), confidence=0.5, lift=1.0),\n",
       "   OrderedStatistic(items_base=frozenset({'Sorvete'}), items_add=frozenset({'Pizza'}), confidence=1.0, lift=1.0)]],\n",
       " [frozenset({'Pizza', 'nan'}),\n",
       "  0.6666666666666666,\n",
       "  [OrderedStatistic(items_base=frozenset(), items_add=frozenset({'nan', 'Pizza'}), confidence=0.6666666666666666, lift=1.0),\n",
       "   OrderedStatistic(items_base=frozenset({'Pizza'}), items_add=frozenset({'nan'}), confidence=0.6666666666666666, lift=1.0),\n",
       "   OrderedStatistic(items_base=frozenset({'nan'}), items_add=frozenset({'Pizza'}), confidence=1.0, lift=1.0)]]]"
      ]
     },
     "execution_count": 9,
     "metadata": {},
     "output_type": "execute_result"
    }
   ],
   "source": [
    "# criação de nova variável percorrendo a a variável anterior para uma melhor visualização dos resultados\n",
    "resultados2 = [list(x) for x in resultados]\n",
    "resultados2"
   ]
  },
  {
   "cell_type": "code",
   "execution_count": 11,
   "metadata": {},
   "outputs": [
    {
     "data": {
      "text/plain": [
       "[[[frozenset(), frozenset({'Cerveja'}), 0.6666666666666666, 1.0]],\n",
       " [[frozenset(), frozenset({'Pizza'}), 1.0, 1.0]],\n",
       " [[frozenset(), frozenset({'Sorvete'}), 0.5, 1.0]],\n",
       " [[frozenset(), frozenset({'nan'}), 0.6666666666666666, 1.0]],\n",
       " [[frozenset(), frozenset({'Cerveja', 'Pizza'}), 0.6666666666666666, 1.0],\n",
       "  [frozenset({'Cerveja'}), frozenset({'Pizza'}), 1.0, 1.0],\n",
       "  [frozenset({'Pizza'}), frozenset({'Cerveja'}), 0.6666666666666666, 1.0]],\n",
       " [[frozenset(), frozenset({'Pizza', 'Sorvete'}), 0.5, 1.0],\n",
       "  [frozenset({'Pizza'}), frozenset({'Sorvete'}), 0.5, 1.0],\n",
       "  [frozenset({'Sorvete'}), frozenset({'Pizza'}), 1.0, 1.0]],\n",
       " [[frozenset(), frozenset({'Pizza', 'nan'}), 0.6666666666666666, 1.0],\n",
       "  [frozenset({'Pizza'}), frozenset({'nan'}), 0.6666666666666666, 1.0],\n",
       "  [frozenset({'nan'}), frozenset({'Pizza'}), 1.0, 1.0]]]"
      ]
     },
     "execution_count": 11,
     "metadata": {},
     "output_type": "execute_result"
    }
   ],
   "source": [
    "# criação de outra variável para a visualização das regras ficaem masi fpaceis para usuários, adicionando as regrasencontradas na variável resultados2\n",
    "resultados3 = []\n",
    "for j in range(0,7):\n",
    "    resultados3.append([list(x) for x in resultados2[j][2]])\n",
    "resultados3"
   ]
  }
 ],
 "metadata": {
  "interpreter": {
   "hash": "0c7c97676331a1e5a8e86811559a37cc3b95a1cddc889d56ef13b1b3c955e932"
  },
  "kernelspec": {
   "display_name": "Python 3.9.6 64-bit",
   "language": "python",
   "name": "python3"
  },
  "language_info": {
   "codemirror_mode": {
    "name": "ipython",
    "version": 3
   },
   "file_extension": ".py",
   "mimetype": "text/x-python",
   "name": "python",
   "nbconvert_exporter": "python",
   "pygments_lexer": "ipython3",
   "version": "3.9.6"
  },
  "orig_nbformat": 4
 },
 "nbformat": 4,
 "nbformat_minor": 2
}
