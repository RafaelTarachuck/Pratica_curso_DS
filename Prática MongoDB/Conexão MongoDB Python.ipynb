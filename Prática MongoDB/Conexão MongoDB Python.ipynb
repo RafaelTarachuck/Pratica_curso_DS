{
 "cells": [
  {
   "cell_type": "code",
   "execution_count": 2,
   "metadata": {},
   "outputs": [
    {
     "name": "stdout",
     "output_type": "stream",
     "text": [
      "Collecting pymongo\n",
      "  Downloading pymongo-4.0.1-cp38-cp38-win_amd64.whl (354 kB)\n",
      "Installing collected packages: pymongo\n",
      "Successfully installed pymongo-4.0.1\n",
      "Collecting pymongo\n",
      "  Using cached pymongo-4.0.1-cp38-cp38-win_amd64.whl (354 kB)\n",
      "Installing collected packages: pymongo\n",
      "Successfully installed pymongo-4.0.1\n",
      "Note: you may need to restart the kernel to use updated packages.\n"
     ]
    }
   ],
   "source": [
    "#pip install pymongo"
   ]
  },
  {
   "cell_type": "code",
   "execution_count": 3,
   "metadata": {},
   "outputs": [],
   "source": [
    "from pymongo import MongoClient"
   ]
  },
  {
   "cell_type": "code",
   "execution_count": 4,
   "metadata": {},
   "outputs": [],
   "source": [
    "#conexão local padrão\n",
    "cliente = MongoClient('mongodb://localhost:27017/')\n",
    "#banco dbmidias\n",
    "db = cliente.dbmidias\n",
    "#coleção posts\n",
    "conexao = db.posts"
   ]
  },
  {
   "cell_type": "code",
   "execution_count": 6,
   "metadata": {},
   "outputs": [
    {
     "name": "stdout",
     "output_type": "stream",
     "text": [
      "{'_id': ObjectId('61b9a53a15ea88f27e0676a1'), 'nome': 'José', 'postagem': 'Bons Produtos', 'data': '31-06-2019'}\n"
     ]
    }
   ],
   "source": [
    "#um documento\n",
    "print(conexao.find_one())"
   ]
  },
  {
   "cell_type": "code",
   "execution_count": 7,
   "metadata": {},
   "outputs": [
    {
     "name": "stdout",
     "output_type": "stream",
     "text": [
      "{'_id': ObjectId('61b9a53a15ea88f27e0676a1'), 'nome': 'José', 'postagem': 'Bons Produtos', 'data': '31-06-2019'}\n"
     ]
    }
   ],
   "source": [
    "print(conexao.find_one({'nome':'José'}))"
   ]
  },
  {
   "cell_type": "code",
   "execution_count": 8,
   "metadata": {},
   "outputs": [
    {
     "name": "stdout",
     "output_type": "stream",
     "text": [
      "{'_id': ObjectId('61b9a53a15ea88f27e0676a1'), 'nome': 'José', 'postagem': 'Bons Produtos', 'data': '31-06-2019'}\n"
     ]
    }
   ],
   "source": [
    "#todos\n",
    "for conexao in conexao.find():\n",
    "    print(conexao)"
   ]
  },
  {
   "cell_type": "code",
   "execution_count": 9,
   "metadata": {},
   "outputs": [],
   "source": [
    "#encerrar conexão\n",
    "cliente.close()"
   ]
  }
 ],
 "metadata": {
  "interpreter": {
   "hash": "34b32c09fca0dd30a3ba6c40048e557e98de75de4e8570002b37180823920224"
  },
  "kernelspec": {
   "display_name": "Python 3.8.8 64-bit ('base': conda)",
   "language": "python",
   "name": "python3"
  },
  "language_info": {
   "codemirror_mode": {
    "name": "ipython",
    "version": 3
   },
   "file_extension": ".py",
   "mimetype": "text/x-python",
   "name": "python",
   "nbconvert_exporter": "python",
   "pygments_lexer": "ipython3",
   "version": "3.8.8"
  },
  "orig_nbformat": 4
 },
 "nbformat": 4,
 "nbformat_minor": 2
}
