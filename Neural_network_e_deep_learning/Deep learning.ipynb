{
 "cells": [
  {
   "cell_type": "code",
   "execution_count": 26,
   "metadata": {},
   "outputs": [],
   "source": [
    "# importação de bibliotecas e funções\n",
    "#utilizado Keras por ser uma abstaração sobre a Tensorflow que facilita seu uso\n",
    "import matplotlib.pyplot as plt\n",
    "from keras.models import Sequential\n",
    "from keras.layers import Dense, Dropout\n",
    "from keras.utils import np_utils\n",
    "import numpy as np\n",
    "from sklearn.metrics import confusion_matrix\n",
    "from keras.datasets import mnist"
   ]
  },
  {
   "cell_type": "code",
   "execution_count": 20,
   "metadata": {},
   "outputs": [
    {
     "data": {
      "text/plain": [
       "Text(0.5, 1.0, '0')"
      ]
     },
     "execution_count": 20,
     "metadata": {},
     "output_type": "execute_result"
    },
    {
     "data": {
      "image/png": "[encoded data removed]",
      "text/plain": [
       "<Figure size 432x288 with 1 Axes>"
      ]
     },
     "metadata": {
      "needs_background": "light"
     },
     "output_type": "display_data"
    }
   ],
   "source": [
    "#importação dos daso e divisão em treinamento e teste\n",
    "(x_treinamento, y_treinamento), (x_teste, y_teste) = mnist.load_data()\n",
    "#visualização de iamgens esecíficas\n",
    "plt.imshow(x_treinamento[21], cmap= 'gray')\n",
    "plt.title(y_treinamento[21])"
   ]
  },
  {
   "cell_type": "code",
   "execution_count": 21,
   "metadata": {},
   "outputs": [
    {
     "data": {
      "text/plain": [
       "array([  0,   0,   0,   0,   0,   0,   0,   0,   0,   0,   0,   0,   0,\n",
       "         0,   0,   0,   0,   0,   0,   0,   0,   0,   0,   0,   0,   0,\n",
       "         0,   0,   0,   0,   0,   0,   0,   0,   0,   0,   0,   0,   0,\n",
       "         0,   0,   0,   0,   0,   0,   0,   0,   0,   0,   0,   0,   0,\n",
       "         0,   0,   0,   0,   0,   0,   0,   0,   0,   0,   0,   0,   0,\n",
       "         0,   0,   0,   0,   0,   0,   0,   0,   0,   0,   0,   0,   0,\n",
       "         0,   0,   0,   0,   0,   0,   0,   0,   0,   0,   0,   0,   0,\n",
       "         0,   0,   0,   0,   0,   0,   0,   0,   0,   0,   0,   0,   0,\n",
       "         0,   0,   0,   0,   0,   0,   0,   0,   0,   0,   0,   0,   0,\n",
       "         0,   0,   0,   0,   0,   0,   0,   0,   0,   0,   0,   0,   0,\n",
       "         0,   0,   0,   0,   0,   0,   0,   0,   0,   0,   0,   0,   0,\n",
       "         0,   0,   0,   0,   0,   0,   0,   0,   0,   0,   0,   0,   0,\n",
       "         0,   0,   0,   0,   0,   0,   0,   0,   0,   0,   0,   0,   0,\n",
       "         0,   0,   0,   0,   0,   0,   0,   0,   0,   0,   0,   0,   0,\n",
       "         0,   0,   0,   0,   0,   0,   0,   0,   0,   0,   0,   0,   0,\n",
       "         0,   0,   0,   0,   0,   0,   0,  84, 185, 159, 151,  60,  36,\n",
       "         0,   0,   0,   0,   0,   0,   0,   0,   0,   0,   0,   0,   0,\n",
       "         0,   0,   0,   0,   0,   0,   0,   0,   0, 222, 254, 254, 254,\n",
       "       254, 241, 198, 198, 198, 198, 198, 198, 198, 198, 170,  52,   0,\n",
       "         0,   0,   0,   0,   0,   0,   0,   0,   0,   0,   0,  67, 114,\n",
       "        72, 114, 163, 227, 254, 225, 254, 254, 254, 250, 229, 254, 254,\n",
       "       140,   0,   0,   0,   0,   0,   0,   0,   0,   0,   0,   0,   0,\n",
       "         0,   0,   0,   0,   0,  17,  66,  14,  67,  67,  67,  59,  21,\n",
       "       236, 254, 106,   0,   0,   0,   0,   0,   0,   0,   0,   0,   0,\n",
       "         0,   0,   0,   0,   0,   0,   0,   0,   0,   0,   0,   0,   0,\n",
       "         0,  83, 253, 209,  18,   0,   0,   0,   0,   0,   0,   0,   0,\n",
       "         0,   0,   0,   0,   0,   0,   0,   0,   0,   0,   0,   0,   0,\n",
       "         0,   0,  22, 233, 255,  83,   0,   0,   0,   0,   0,   0,   0,\n",
       "         0,   0,   0,   0,   0,   0,   0,   0,   0,   0,   0,   0,   0,\n",
       "         0,   0,   0,   0, 129, 254, 238,  44,   0,   0,   0,   0,   0,\n",
       "         0,   0,   0,   0,   0,   0,   0,   0,   0,   0,   0,   0,   0,\n",
       "         0,   0,   0,   0,   0,  59, 249, 254,  62,   0,   0,   0,   0,\n",
       "         0,   0,   0,   0,   0,   0,   0,   0,   0,   0,   0,   0,   0,\n",
       "         0,   0,   0,   0,   0,   0,   0, 133, 254, 187,   5,   0,   0,\n",
       "         0,   0,   0,   0,   0,   0,   0,   0,   0,   0,   0,   0,   0,\n",
       "         0,   0,   0,   0,   0,   0,   0,   0,   9, 205, 248,  58,   0,\n",
       "         0,   0,   0,   0,   0,   0,   0,   0,   0,   0,   0,   0,   0,\n",
       "         0,   0,   0,   0,   0,   0,   0,   0,   0,   0, 126, 254, 182,\n",
       "         0,   0,   0,   0,   0,   0,   0,   0,   0,   0,   0,   0,   0,\n",
       "         0,   0,   0,   0,   0,   0,   0,   0,   0,   0,   0,  75, 251,\n",
       "       240,  57,   0,   0,   0,   0,   0,   0,   0,   0,   0,   0,   0,\n",
       "         0,   0,   0,   0,   0,   0,   0,   0,   0,   0,   0,   0,  19,\n",
       "       221, 254, 166,   0,   0,   0,   0,   0,   0,   0,   0,   0,   0,\n",
       "         0,   0,   0,   0,   0,   0,   0,   0,   0,   0,   0,   0,   0,\n",
       "         3, 203, 254, 219,  35,   0,   0,   0,   0,   0,   0,   0,   0,\n",
       "         0,   0,   0,   0,   0,   0,   0,   0,   0,   0,   0,   0,   0,\n",
       "         0,   0,  38, 254, 254,  77,   0,   0,   0,   0,   0,   0,   0,\n",
       "         0,   0,   0,   0,   0,   0,   0,   0,   0,   0,   0,   0,   0,\n",
       "         0,   0,   0,  31, 224, 254, 115,   1,   0,   0,   0,   0,   0,\n",
       "         0,   0,   0,   0,   0,   0,   0,   0,   0,   0,   0,   0,   0,\n",
       "         0,   0,   0,   0,   0, 133, 254, 254,  52,   0,   0,   0,   0,\n",
       "         0,   0,   0,   0,   0,   0,   0,   0,   0,   0,   0,   0,   0,\n",
       "         0,   0,   0,   0,   0,   0,  61, 242, 254, 254,  52,   0,   0,\n",
       "         0,   0,   0,   0,   0,   0,   0,   0,   0,   0,   0,   0,   0,\n",
       "         0,   0,   0,   0,   0,   0,   0,   0, 121, 254, 254, 219,  40,\n",
       "         0,   0,   0,   0,   0,   0,   0,   0,   0,   0,   0,   0,   0,\n",
       "         0,   0,   0,   0,   0,   0,   0,   0,   0,   0, 121, 254, 207,\n",
       "        18,   0,   0,   0,   0,   0,   0,   0,   0,   0,   0,   0,   0,\n",
       "         0,   0,   0,   0,   0,   0,   0,   0,   0,   0,   0,   0,   0,\n",
       "         0,   0,   0,   0,   0,   0,   0,   0,   0,   0,   0,   0,   0,\n",
       "         0,   0,   0,   0], dtype=uint8)"
      ]
     },
     "execution_count": 21,
     "metadata": {},
     "output_type": "execute_result"
    }
   ],
   "source": [
    "#mudança de dimensões, originalmente estáem 25x28 e precisamos 784\n",
    "x_treinamento = x_treinamento.reshape((len(x_treinamento), np.prod(x_treinamento.shape[1:])))\n",
    "x_teste = x_teste.reshape((len(x_teste), np.prod(x_teste.shape[1:])))\n",
    "x_teste[0]"
   ]
  },
  {
   "cell_type": "code",
   "execution_count": 22,
   "metadata": {},
   "outputs": [],
   "source": [
    "#tranformação dos dados para normalização em formato float\n",
    "x_treinamento = x_treinamento.astype('float32')\n",
    "x_teste = x_teste.astype('float32')"
   ]
  },
  {
   "cell_type": "code",
   "execution_count": 23,
   "metadata": {},
   "outputs": [],
   "source": [
    "#normalização (255 é o valor máximo de um pixel)\n",
    "x_treinamento/=255\n",
    "x_teste /= 255\n"
   ]
  },
  {
   "cell_type": "code",
   "execution_count": 24,
   "metadata": {},
   "outputs": [
    {
     "data": {
      "text/plain": [
       "array([0., 0., 0., 0., 0., 0., 0., 1., 0., 0.], dtype=float32)"
      ]
     },
     "execution_count": 24,
     "metadata": {},
     "output_type": "execute_result"
    }
   ],
   "source": [
    "#transformação para formato dummy (temos 10 classes)\n",
    "y_treinamento = np_utils.to_categorical(y_treinamento, 10)\n",
    "y_teste = np_utils.to_categorical(y_teste, 10)\n",
    "y_teste[0]"
   ]
  },
  {
   "cell_type": "code",
   "execution_count": 28,
   "metadata": {},
   "outputs": [],
   "source": [
    "# estrutura da rede neural: 784 - 64 - 64 -64 - 10\n",
    "# dropout é utilizado para zerar uma part dos neurônios para evitar overfitting (modelo super ajustado)\n",
    "modelo = Sequential()\n",
    "modelo.add(Dense(units = 64, activation = 'relu', input_dim = 784))\n",
    "modelo.add(Dropout(0.2))\n",
    "modelo.add(Dense(units = 64, activation = 'relu'))\n",
    "modelo.add(Dropout(0.2))\n",
    "modelo.add(Dense(units = 64, activation = 'relu'))\n",
    "modelo.add(Dropout(0.2))\n",
    "#camada de saida, softmax probabilidade\n",
    "modelo.add(Dense(units = 10, activation = 'softmax'))"
   ]
  },
  {
   "cell_type": "code",
   "execution_count": 30,
   "metadata": {},
   "outputs": [
    {
     "name": "stdout",
     "output_type": "stream",
     "text": [
      "Model: \"sequential_4\"\n",
      "_________________________________________________________________\n",
      " Layer (type)                Output Shape              Param #   \n",
      "=================================================================\n",
      " dense_13 (Dense)            (None, 64)                50240     \n",
      "                                                                 \n",
      " dropout_12 (Dropout)        (None, 64)                0         \n",
      "                                                                 \n",
      " dense_14 (Dense)            (None, 64)                4160      \n",
      "                                                                 \n",
      " dropout_13 (Dropout)        (None, 64)                0         \n",
      "                                                                 \n",
      " dense_15 (Dense)            (None, 64)                4160      \n",
      "                                                                 \n",
      " dropout_14 (Dropout)        (None, 64)                0         \n",
      "                                                                 \n",
      " dense_16 (Dense)            (None, 10)                650       \n",
      "                                                                 \n",
      "=================================================================\n",
      "Total params: 59,210\n",
      "Trainable params: 59,210\n",
      "Non-trainable params: 0\n",
      "_________________________________________________________________\n"
     ]
    }
   ],
   "source": [
    "#visualização da estrutura da rede neural\n",
    "modelo.summary()"
   ]
  },
  {
   "cell_type": "code",
   "execution_count": 35,
   "metadata": {},
   "outputs": [
    {
     "name": "stdout",
     "output_type": "stream",
     "text": [
      "Epoch 1/40\n",
      "1875/1875 [==============================] - 5s 2ms/step - loss: 0.0826 - accuracy: 0.9754 - val_loss: 0.0970 - val_accuracy: 0.9754\n",
      "Epoch 2/40\n",
      "1875/1875 [==============================] - 4s 2ms/step - loss: 0.0812 - accuracy: 0.9747 - val_loss: 0.0890 - val_accuracy: 0.9758\n",
      "Epoch 3/40\n",
      "1875/1875 [==============================] - 4s 2ms/step - loss: 0.0806 - accuracy: 0.9754 - val_loss: 0.0978 - val_accuracy: 0.9761\n",
      "Epoch 4/40\n",
      "1875/1875 [==============================] - 5s 3ms/step - loss: 0.0800 - accuracy: 0.9759 - val_loss: 0.0900 - val_accuracy: 0.9758\n",
      "Epoch 5/40\n",
      "1875/1875 [==============================] - 4s 2ms/step - loss: 0.0777 - accuracy: 0.9760 - val_loss: 0.0877 - val_accuracy: 0.9760\n",
      "Epoch 6/40\n",
      "1875/1875 [==============================] - 3s 2ms/step - loss: 0.0758 - accuracy: 0.9765 - val_loss: 0.0878 - val_accuracy: 0.9777\n",
      "Epoch 7/40\n",
      "1875/1875 [==============================] - 3s 2ms/step - loss: 0.0772 - accuracy: 0.9764 - val_loss: 0.0915 - val_accuracy: 0.9761\n",
      "Epoch 8/40\n",
      "1875/1875 [==============================] - 3s 2ms/step - loss: 0.0764 - accuracy: 0.9763 - val_loss: 0.0978 - val_accuracy: 0.9768\n",
      "Epoch 9/40\n",
      "1875/1875 [==============================] - 3s 1ms/step - loss: 0.0774 - accuracy: 0.9770 - val_loss: 0.0967 - val_accuracy: 0.9769\n",
      "Epoch 10/40\n",
      "1875/1875 [==============================] - 3s 1ms/step - loss: 0.0719 - accuracy: 0.9775 - val_loss: 0.0964 - val_accuracy: 0.9767\n",
      "Epoch 11/40\n",
      "1875/1875 [==============================] - 3s 1ms/step - loss: 0.0734 - accuracy: 0.9779 - val_loss: 0.0949 - val_accuracy: 0.9768\n",
      "Epoch 12/40\n",
      "1875/1875 [==============================] - 3s 1ms/step - loss: 0.0712 - accuracy: 0.9783 - val_loss: 0.0940 - val_accuracy: 0.9768\n",
      "Epoch 13/40\n",
      "1875/1875 [==============================] - 3s 1ms/step - loss: 0.0724 - accuracy: 0.9780 - val_loss: 0.0976 - val_accuracy: 0.9775\n",
      "Epoch 14/40\n",
      "1875/1875 [==============================] - 3s 2ms/step - loss: 0.0680 - accuracy: 0.9797 - val_loss: 0.0988 - val_accuracy: 0.9763\n",
      "Epoch 15/40\n",
      "1875/1875 [==============================] - 3s 1ms/step - loss: 0.0712 - accuracy: 0.9783 - val_loss: 0.1076 - val_accuracy: 0.9753\n",
      "Epoch 16/40\n",
      "1875/1875 [==============================] - 3s 1ms/step - loss: 0.0688 - accuracy: 0.9794 - val_loss: 0.0988 - val_accuracy: 0.9752\n",
      "Epoch 17/40\n",
      "1875/1875 [==============================] - 2s 1ms/step - loss: 0.0711 - accuracy: 0.9786 - val_loss: 0.1000 - val_accuracy: 0.9767\n",
      "Epoch 18/40\n",
      "1875/1875 [==============================] - 2s 1ms/step - loss: 0.0687 - accuracy: 0.9795 - val_loss: 0.0975 - val_accuracy: 0.9769\n",
      "Epoch 19/40\n",
      "1875/1875 [==============================] - 2s 1ms/step - loss: 0.0663 - accuracy: 0.9799 - val_loss: 0.1033 - val_accuracy: 0.9760\n",
      "Epoch 20/40\n",
      "1875/1875 [==============================] - 2s 1ms/step - loss: 0.0664 - accuracy: 0.9791 - val_loss: 0.0980 - val_accuracy: 0.9757\n",
      "Epoch 21/40\n",
      "1875/1875 [==============================] - 2s 1ms/step - loss: 0.0650 - accuracy: 0.9803 - val_loss: 0.0985 - val_accuracy: 0.9782\n",
      "Epoch 22/40\n",
      "1875/1875 [==============================] - 2s 1ms/step - loss: 0.0658 - accuracy: 0.9804 - val_loss: 0.0978 - val_accuracy: 0.9769\n",
      "Epoch 23/40\n",
      "1875/1875 [==============================] - 2s 1ms/step - loss: 0.0656 - accuracy: 0.9802 - val_loss: 0.1060 - val_accuracy: 0.9771\n",
      "Epoch 24/40\n",
      "1875/1875 [==============================] - 2s 1ms/step - loss: 0.0695 - accuracy: 0.9791 - val_loss: 0.0955 - val_accuracy: 0.9779\n",
      "Epoch 25/40\n",
      "1875/1875 [==============================] - 2s 1ms/step - loss: 0.0630 - accuracy: 0.9812 - val_loss: 0.1038 - val_accuracy: 0.9753\n",
      "Epoch 26/40\n",
      "1875/1875 [==============================] - 2s 1ms/step - loss: 0.0649 - accuracy: 0.9807 - val_loss: 0.1062 - val_accuracy: 0.9762\n",
      "Epoch 27/40\n",
      "1875/1875 [==============================] - 2s 1ms/step - loss: 0.0635 - accuracy: 0.9808 - val_loss: 0.1022 - val_accuracy: 0.9770\n",
      "Epoch 28/40\n",
      "1875/1875 [==============================] - 2s 1ms/step - loss: 0.0629 - accuracy: 0.9809 - val_loss: 0.0986 - val_accuracy: 0.9760\n",
      "Epoch 29/40\n",
      "1875/1875 [==============================] - 2s 1ms/step - loss: 0.0642 - accuracy: 0.9804 - val_loss: 0.0962 - val_accuracy: 0.9784\n",
      "Epoch 30/40\n",
      "1875/1875 [==============================] - 2s 1ms/step - loss: 0.0606 - accuracy: 0.9818 - val_loss: 0.1017 - val_accuracy: 0.9766\n",
      "Epoch 31/40\n",
      "1875/1875 [==============================] - 2s 1ms/step - loss: 0.0597 - accuracy: 0.9819 - val_loss: 0.1055 - val_accuracy: 0.9780\n",
      "Epoch 32/40\n",
      "1875/1875 [==============================] - 2s 1ms/step - loss: 0.0632 - accuracy: 0.9803 - val_loss: 0.1052 - val_accuracy: 0.9759\n",
      "Epoch 33/40\n",
      "1875/1875 [==============================] - 2s 1ms/step - loss: 0.0621 - accuracy: 0.9814 - val_loss: 0.1077 - val_accuracy: 0.9754\n",
      "Epoch 34/40\n",
      "1875/1875 [==============================] - 2s 1ms/step - loss: 0.0584 - accuracy: 0.9820 - val_loss: 0.1207 - val_accuracy: 0.9740\n",
      "Epoch 35/40\n",
      "1875/1875 [==============================] - 2s 1ms/step - loss: 0.0611 - accuracy: 0.9818 - val_loss: 0.1138 - val_accuracy: 0.9752\n",
      "Epoch 36/40\n",
      "1875/1875 [==============================] - 2s 1ms/step - loss: 0.0600 - accuracy: 0.9820 - val_loss: 0.1100 - val_accuracy: 0.9759\n",
      "Epoch 37/40\n",
      "1875/1875 [==============================] - 2s 1ms/step - loss: 0.0594 - accuracy: 0.9821 - val_loss: 0.1008 - val_accuracy: 0.9768\n",
      "Epoch 38/40\n",
      "1875/1875 [==============================] - 2s 1ms/step - loss: 0.0603 - accuracy: 0.9823 - val_loss: 0.1047 - val_accuracy: 0.9765\n",
      "Epoch 39/40\n",
      "1875/1875 [==============================] - 2s 1ms/step - loss: 0.0570 - accuracy: 0.9827 - val_loss: 0.1072 - val_accuracy: 0.9762\n",
      "Epoch 40/40\n",
      "1875/1875 [==============================] - 2s 1ms/step - loss: 0.0552 - accuracy: 0.9840 - val_loss: 0.1092 - val_accuracy: 0.9756\n"
     ]
    }
   ],
   "source": [
    "#configuração dos parâmetros da rede neural e treianmento (utilizando base de dados de validação)\n",
    "#na variável historico temos os históricos das execuções (erro e accuracy)\n",
    "modelo.compile(optimizer= 'adam', loss= 'categorical_crossentropy', metrics = ['accuracy'])\n",
    "historico = modelo.fit(x_treinamento, y_treinamento, epochs = 40, validation_data = (x_teste, y_teste))"
   ]
  },
  {
   "cell_type": "code",
   "execution_count": 36,
   "metadata": {},
   "outputs": [
    {
     "data": {
      "text/plain": [
       "[<matplotlib.lines.Line2D at 0x10cf88e50a0>]"
      ]
     },
     "execution_count": 36,
     "metadata": {},
     "output_type": "execute_result"
    },
    {
     "data": {
      "image/png": "[encoded data removed]",
      "text/plain": [
       "<Figure size 432x288 with 1 Axes>"
      ]
     },
     "metadata": {
      "needs_background": "light"
     },
     "output_type": "display_data"
    }
   ],
   "source": [
    "# gráfico para visualização de erros e de accuracy\n",
    "historico.history.keys()\n",
    "#evolução do erra em azul\n",
    "plt.plot(historico.history['val_loss'])\n",
    "#performance da rede em laranja\n",
    "plt.plot(historico.history['val_accuracy'])"
   ]
  },
  {
   "cell_type": "code",
   "execution_count": 37,
   "metadata": {},
   "outputs": [
    {
     "data": {
      "text/plain": [
       "array([[8.28799431e-13, 2.28065788e-09, 8.40542036e-09, ...,\n",
       "        9.99999881e-01, 1.79806560e-12, 1.27554074e-07],\n",
       "       [1.57661525e-15, 3.25441607e-09, 1.00000000e+00, ...,\n",
       "        1.50209151e-11, 2.33949263e-14, 1.40881834e-21],\n",
       "       [2.21162910e-12, 1.00000000e+00, 2.81695782e-12, ...,\n",
       "        1.86084026e-09, 1.01925632e-08, 3.44406455e-15],\n",
       "       ...,\n",
       "       [1.10788926e-19, 1.00958155e-16, 4.10454277e-14, ...,\n",
       "        9.06548059e-10, 1.18607186e-14, 2.34991617e-07],\n",
       "       [1.67639095e-23, 1.68273121e-26, 1.21032881e-21, ...,\n",
       "        2.26903882e-20, 7.11891136e-12, 5.58103974e-16],\n",
       "       [1.41497955e-14, 5.57885860e-27, 8.56762113e-17, ...,\n",
       "        7.55995723e-37, 1.62404581e-15, 3.81355280e-24]], dtype=float32)"
      ]
     },
     "execution_count": 37,
     "metadata": {},
     "output_type": "execute_result"
    }
   ],
   "source": [
    "#obtendo as previsões\n",
    "previsoes = modelo.predict(x_teste)\n",
    "previsoes"
   ]
  },
  {
   "cell_type": "code",
   "execution_count": 42,
   "metadata": {},
   "outputs": [
    {
     "data": {
      "text/plain": [
       "array([[ 971,    1,    0,    1,    0,    1,    3,    2,    1,    0],\n",
       "       [   1, 1121,    3,    1,    0,    0,    2,    0,    7,    0],\n",
       "       [   1,    1, 1011,    5,    1,    1,    1,    8,    3,    0],\n",
       "       [   0,    0,    8,  985,    0,    6,    0,    4,    3,    4],\n",
       "       [   0,    0,    3,    1,  960,    0,    5,    3,    1,    9],\n",
       "       [   2,    1,    0,    6,    1,  867,    4,    1,    7,    3],\n",
       "       [   4,    1,    1,    1,    5,    4,  941,    0,    1,    0],\n",
       "       [   2,    5,    9,    5,    0,    0,    0, 1005,    1,    1],\n",
       "       [   7,    1,   10,    5,    4,    4,    2,    3,  936,    2],\n",
       "       [   1,    5,    1,    9,   17,    5,    0,    7,    5,  959]],\n",
       "      dtype=int64)"
      ]
     },
     "execution_count": 42,
     "metadata": {},
     "output_type": "execute_result"
    }
   ],
   "source": [
    "# valor máximo (com a probabilidade maior por serem 10 saídas) e geração de matriz de cofusão\n",
    "y_teste_matriz = [np.argmax(t) for t in y_teste]\n",
    "y_previsoes_matriz = [np.argmax(t) for t in previsoes]\n",
    "confusao = confusion_matrix(y_teste_matriz, y_previsoes_matriz)\n",
    "confusao\n"
   ]
  },
  {
   "cell_type": "code",
   "execution_count": 43,
   "metadata": {},
   "outputs": [
    {
     "data": {
      "text/plain": [
       "array([0., 0., 0., 0., 1., 0., 0., 0., 0., 0.], dtype=float32)"
      ]
     },
     "execution_count": 43,
     "metadata": {},
     "output_type": "execute_result"
    }
   ],
   "source": [
    "#previsao de um novo regirtro, convertendo o array para formato de matriz (número 4)\n",
    "y_treinamento[20]"
   ]
  },
  {
   "cell_type": "code",
   "execution_count": 44,
   "metadata": {},
   "outputs": [
    {
     "data": {
      "text/plain": [
       "[4]"
      ]
     },
     "execution_count": 44,
     "metadata": {},
     "output_type": "execute_result"
    }
   ],
   "source": [
    "#passo a mesma posição para modelo prever\n",
    "novo = x_treinamento[20]\n",
    "# tranformação de matriz para vetor\n",
    "novo = np.expand_dims(novo, axis = 0)\n",
    "#previsao\n",
    "pred = modelo.predict(novo)\n",
    "#maior valor\n",
    "pred = [np.argmax(pred) for t in pred]\n",
    "pred"
   ]
  }
 ],
 "metadata": {
  "interpreter": {
   "hash": "0c7c97676331a1e5a8e86811559a37cc3b95a1cddc889d56ef13b1b3c955e932"
  },
  "kernelspec": {
   "display_name": "Python 3.9.6 64-bit",
   "language": "python",
   "name": "python3"
  },
  "language_info": {
   "codemirror_mode": {
    "name": "ipython",
    "version": 3
   },
   "file_extension": ".py",
   "mimetype": "text/x-python",
   "name": "python",
   "nbconvert_exporter": "python",
   "pygments_lexer": "ipython3",
   "version": "3.9.6"
  },
  "orig_nbformat": 4
 },
 "nbformat": 4,
 "nbformat_minor": 2
}
